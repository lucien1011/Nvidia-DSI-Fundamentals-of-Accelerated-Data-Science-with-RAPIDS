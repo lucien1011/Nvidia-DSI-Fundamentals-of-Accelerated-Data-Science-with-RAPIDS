{
 "cells": [
  {
   "cell_type": "markdown",
   "metadata": {},
   "source": [
    "# Week 1: Find Clusters of Infected People"
   ]
  },
  {
   "cell_type": "markdown",
   "metadata": {},
   "source": [
    "<span style=\"color:red\">\n",
    "**URGENT WARNING**\n",
    "\n",
    "We have been receiving reports from health facilities that a new, fast-spreading virus has been discovered in the population. To prepare our response, we need to understand the geospatial distribution of those who have been infected. Find out whether there are identifiable clusters of infected individuals and where they are.    \n",
    "</span>\n",
    "\n",
    "Your goal for this notebook will be to estimate the location of dense geographic clusters of infected people using incoming data from week 1 of the simulated epidemic."
   ]
  },
  {
   "cell_type": "markdown",
   "metadata": {},
   "source": [
    "## Imports"
   ]
  },
  {
   "cell_type": "code",
   "execution_count": 1,
   "metadata": {},
   "outputs": [],
   "source": [
    "import cudf\n",
    "import cuml\n",
    "\n",
    "import cupy as cp"
   ]
  },
  {
   "cell_type": "markdown",
   "metadata": {},
   "source": [
    "## Load Data"
   ]
  },
  {
   "cell_type": "markdown",
   "metadata": {},
   "source": [
    "Begin by loading the data you've received about week 1 of the outbreak into a cuDF data frame. The data is located at `'./data/week1.csv'`. For this notebook you will only need the `'lat'`, `'long'`, and `'infected'` columns. Either drop the columns after loading, or use the `cudf.read_csv` named argument `usecols` to provide a list of only the columns you need."
   ]
  },
  {
   "cell_type": "code",
   "execution_count": 2,
   "metadata": {},
   "outputs": [],
   "source": [
    "gdf = cudf.read_csv('./data/week1.csv',usecols=['lat','long','infected'])"
   ]
  },
  {
   "cell_type": "markdown",
   "metadata": {},
   "source": [
    "## Make Data Frame of the Infected"
   ]
  },
  {
   "cell_type": "markdown",
   "metadata": {},
   "source": [
    "Make a new cuDF data frame `infected_df` that contains only the infected members of the population."
   ]
  },
  {
   "cell_type": "code",
   "execution_count": 3,
   "metadata": {},
   "outputs": [],
   "source": [
    "infected_df = gdf.loc[gdf['infected']==1]"
   ]
  },
  {
   "cell_type": "markdown",
   "metadata": {},
   "source": [
    "## Make Grid Coordinates for Infected Locations"
   ]
  },
  {
   "cell_type": "markdown",
   "metadata": {},
   "source": [
    "Provided for you in the next cell (which you can expand by clicking on the \"...\" and contract again after executing by clicking on the blue left border of the cell) is the lat/long to OSGB36 grid coordinates converter you used earlier in the workshop. Use this converter to create grid coordinate values stored in `northing` and `easting` columns of the `infected_df` you created in the last step."
   ]
  },
  {
   "cell_type": "code",
   "execution_count": 4,
   "metadata": {
    "jupyter": {
     "source_hidden": true
    },
    "tags": []
   },
   "outputs": [],
   "source": [
    "# https://www.ordnancesurvey.co.uk/docs/support/guide-coordinate-systems-great-britain.pdf\n",
    "\n",
    "def latlong2osgbgrid_cupy(lat, long, input_degrees=True):\n",
    "    '''\n",
    "    Converts latitude and longitude (ellipsoidal) coordinates into northing and easting (grid) coordinates, using a Transverse Mercator projection.\n",
    "    \n",
    "    Inputs:\n",
    "    lat: latitude coordinate (N)\n",
    "    long: longitude coordinate (E)\n",
    "    input_degrees: if True (default), interprets the coordinates as degrees; otherwise, interprets coordinates as radians\n",
    "    \n",
    "    Output:\n",
    "    (northing, easting)\n",
    "    '''\n",
    "    \n",
    "    if input_degrees:\n",
    "        lat = lat * cp.pi/180\n",
    "        long = long * cp.pi/180\n",
    "\n",
    "    a = 6377563.396\n",
    "    b = 6356256.909\n",
    "    e2 = (a**2 - b**2) / a**2\n",
    "\n",
    "    N0 = -100000 # northing of true origin\n",
    "    E0 = 400000 # easting of true origin\n",
    "    F0 = .9996012717 # scale factor on central meridian\n",
    "    phi0 = 49 * cp.pi / 180 # latitude of true origin\n",
    "    lambda0 = -2 * cp.pi / 180 # longitude of true origin and central meridian\n",
    "    \n",
    "    sinlat = cp.sin(lat)\n",
    "    coslat = cp.cos(lat)\n",
    "    tanlat = cp.tan(lat)\n",
    "    \n",
    "    latdiff = lat-phi0\n",
    "    longdiff = long-lambda0\n",
    "\n",
    "    n = (a-b) / (a+b)\n",
    "    nu = a * F0 * (1 - e2 * sinlat ** 2) ** -.5\n",
    "    rho = a * F0 * (1 - e2) * (1 - e2 * sinlat ** 2) ** -1.5\n",
    "    eta2 = nu / rho - 1\n",
    "    M = b * F0 * ((1 + n + 5/4 * (n**2 + n**3)) * latdiff - \n",
    "                  (3*(n+n**2) + 21/8 * n**3) * cp.sin(latdiff) * cp.cos(lat+phi0) +\n",
    "                  15/8 * (n**2 + n**3) * cp.sin(2*(latdiff)) * cp.cos(2*(lat+phi0)) - \n",
    "                  35/24 * n**3 * cp.sin(3*(latdiff)) * cp.cos(3*(lat+phi0)))\n",
    "    I = M + N0\n",
    "    II = nu/2 * sinlat * coslat\n",
    "    III = nu/24 * sinlat * coslat ** 3 * (5 - tanlat ** 2 + 9 * eta2)\n",
    "    IIIA = nu/720 * sinlat * coslat ** 5 * (61-58 * tanlat**2 + tanlat**4)\n",
    "    IV = nu * coslat\n",
    "    V = nu / 6 * coslat**3 * (nu/rho - cp.tan(lat)**2)\n",
    "    VI = nu / 120 * coslat ** 5 * (5 - 18 * tanlat**2 + tanlat**4 + 14 * eta2 - 58 * tanlat**2 * eta2)\n",
    "\n",
    "    northing = I + II * longdiff**2 + III * longdiff**4 + IIIA * longdiff**6\n",
    "    easting = E0 + IV * longdiff + V * longdiff**3 + VI * longdiff**5\n",
    "\n",
    "    return(northing, easting)"
   ]
  },
  {
   "cell_type": "code",
   "execution_count": 15,
   "metadata": {},
   "outputs": [],
   "source": [
    "(northing, easting) = latlong2osgbgrid_cupy(infected_df['lat'],infected_df['long'])\n",
    "infected_df['northing'] = northing\n",
    "infected_df['easting'] = easting"
   ]
  },
  {
   "cell_type": "code",
   "execution_count": 16,
   "metadata": {
    "tags": []
   },
   "outputs": [
    {
     "data": {
      "text/html": [
       "<div>\n",
       "<style scoped>\n",
       "    .dataframe tbody tr th:only-of-type {\n",
       "        vertical-align: middle;\n",
       "    }\n",
       "\n",
       "    .dataframe tbody tr th {\n",
       "        vertical-align: top;\n",
       "    }\n",
       "\n",
       "    .dataframe thead th {\n",
       "        text-align: right;\n",
       "    }\n",
       "</style>\n",
       "<table border=\"1\" class=\"dataframe\">\n",
       "  <thead>\n",
       "    <tr style=\"text-align: right;\">\n",
       "      <th></th>\n",
       "      <th>lat</th>\n",
       "      <th>long</th>\n",
       "      <th>infected</th>\n",
       "      <th>northing</th>\n",
       "      <th>easting</th>\n",
       "    </tr>\n",
       "  </thead>\n",
       "  <tbody>\n",
       "    <tr>\n",
       "      <th>28928759</th>\n",
       "      <td>54.472766</td>\n",
       "      <td>-1.654932</td>\n",
       "      <td>True</td>\n",
       "      <td>508670.060234</td>\n",
       "      <td>422359.759523</td>\n",
       "    </tr>\n",
       "    <tr>\n",
       "      <th>28930512</th>\n",
       "      <td>54.529717</td>\n",
       "      <td>-1.667143</td>\n",
       "      <td>True</td>\n",
       "      <td>515002.666798</td>\n",
       "      <td>421538.547038</td>\n",
       "    </tr>\n",
       "    <tr>\n",
       "      <th>28930904</th>\n",
       "      <td>54.512986</td>\n",
       "      <td>-1.589866</td>\n",
       "      <td>True</td>\n",
       "      <td>513167.535850</td>\n",
       "      <td>426549.874086</td>\n",
       "    </tr>\n",
       "    <tr>\n",
       "      <th>28932226</th>\n",
       "      <td>54.522322</td>\n",
       "      <td>-1.380694</td>\n",
       "      <td>True</td>\n",
       "      <td>514305.280055</td>\n",
       "      <td>440081.234798</td>\n",
       "    </tr>\n",
       "    <tr>\n",
       "      <th>28933748</th>\n",
       "      <td>54.541660</td>\n",
       "      <td>-1.613490</td>\n",
       "      <td>True</td>\n",
       "      <td>516349.132042</td>\n",
       "      <td>425003.005560</td>\n",
       "    </tr>\n",
       "    <tr>\n",
       "      <th>...</th>\n",
       "      <td>...</td>\n",
       "      <td>...</td>\n",
       "      <td>...</td>\n",
       "      <td>...</td>\n",
       "      <td>...</td>\n",
       "    </tr>\n",
       "    <tr>\n",
       "      <th>57404109</th>\n",
       "      <td>52.428347</td>\n",
       "      <td>-3.322932</td>\n",
       "      <td>True</td>\n",
       "      <td>282016.338253</td>\n",
       "      <td>310060.098268</td>\n",
       "    </tr>\n",
       "    <tr>\n",
       "      <th>57406802</th>\n",
       "      <td>52.415895</td>\n",
       "      <td>-3.263942</td>\n",
       "      <td>True</td>\n",
       "      <td>280559.681381</td>\n",
       "      <td>314046.146547</td>\n",
       "    </tr>\n",
       "    <tr>\n",
       "      <th>57410428</th>\n",
       "      <td>52.539934</td>\n",
       "      <td>-3.617128</td>\n",
       "      <td>True</td>\n",
       "      <td>294832.815870</td>\n",
       "      <td>290338.202721</td>\n",
       "    </tr>\n",
       "    <tr>\n",
       "      <th>57411005</th>\n",
       "      <td>52.435490</td>\n",
       "      <td>-3.597263</td>\n",
       "      <td>True</td>\n",
       "      <td>283187.465568</td>\n",
       "      <td>291428.293249</td>\n",
       "    </tr>\n",
       "    <tr>\n",
       "      <th>57411919</th>\n",
       "      <td>52.700105</td>\n",
       "      <td>-3.375221</td>\n",
       "      <td>True</td>\n",
       "      <td>312306.356272</td>\n",
       "      <td>307081.485707</td>\n",
       "    </tr>\n",
       "  </tbody>\n",
       "</table>\n",
       "<p>18148 rows × 5 columns</p>\n",
       "</div>"
      ],
      "text/plain": [
       "                lat      long  infected       northing        easting\n",
       "28928759  54.472766 -1.654932      True  508670.060234  422359.759523\n",
       "28930512  54.529717 -1.667143      True  515002.666798  421538.547038\n",
       "28930904  54.512986 -1.589866      True  513167.535850  426549.874086\n",
       "28932226  54.522322 -1.380694      True  514305.280055  440081.234798\n",
       "28933748  54.541660 -1.613490      True  516349.132042  425003.005560\n",
       "...             ...       ...       ...            ...            ...\n",
       "57404109  52.428347 -3.322932      True  282016.338253  310060.098268\n",
       "57406802  52.415895 -3.263942      True  280559.681381  314046.146547\n",
       "57410428  52.539934 -3.617128      True  294832.815870  290338.202721\n",
       "57411005  52.435490 -3.597263      True  283187.465568  291428.293249\n",
       "57411919  52.700105 -3.375221      True  312306.356272  307081.485707\n",
       "\n",
       "[18148 rows x 5 columns]"
      ]
     },
     "execution_count": 16,
     "metadata": {},
     "output_type": "execute_result"
    }
   ],
   "source": [
    "infected_df"
   ]
  },
  {
   "cell_type": "markdown",
   "metadata": {},
   "source": [
    "## Find Clusters of Infected People"
   ]
  },
  {
   "cell_type": "markdown",
   "metadata": {},
   "source": [
    "Use DBSCAN to find clusters of at least 25 infected people where no member is more than 2000m from at least one other cluster member. Create a new column in `infected_df` which contains the cluster to which each infected person belongs."
   ]
  },
  {
   "cell_type": "code",
   "execution_count": 18,
   "metadata": {},
   "outputs": [],
   "source": [
    "dbscan = cuml.DBSCAN(eps=2000)\n",
    "infected_df['cluster'] = dbscan.fit_predict(infected_df[['northing','easting']])"
   ]
  },
  {
   "cell_type": "markdown",
   "metadata": {},
   "source": [
    "## Find the Centroid of Each Cluster"
   ]
  },
  {
   "cell_type": "markdown",
   "metadata": {},
   "source": [
    "Use grouping to find the mean `northing` and `easting` values for each cluster identified above."
   ]
  },
  {
   "cell_type": "code",
   "execution_count": 33,
   "metadata": {},
   "outputs": [
    {
     "data": {
      "text/plain": [
       "northing    395111.821892\n",
       "easting     382180.131764\n",
       "Name: 0, dtype: float64"
      ]
     },
     "execution_count": 33,
     "metadata": {},
     "output_type": "execute_result"
    }
   ],
   "source": [
    "tmp = infected_df[['northing','easting','cluster']].groupby(['cluster']).mean()\n",
    "tmp.loc[0]"
   ]
  },
  {
   "cell_type": "markdown",
   "metadata": {},
   "source": [
    "Find the number of people in each cluster by counting the number of appearances of each cluster's label in the column produced by DBSCAN."
   ]
  },
  {
   "cell_type": "code",
   "execution_count": 28,
   "metadata": {},
   "outputs": [
    {
     "data": {
      "text/plain": [
       "cluster\n",
       " 23         2\n",
       " 102        3\n",
       " 69         3\n",
       " 76         4\n",
       " 111        4\n",
       "        ...  \n",
       " 49       114\n",
       " 47       166\n",
       " 83       669\n",
       "-1       1830\n",
       " 0      14217\n",
       "Length: 122, dtype: int32"
      ]
     },
     "execution_count": 28,
     "metadata": {},
     "output_type": "execute_result"
    }
   ],
   "source": [
    "infected_df[['northing','easting','cluster']].groupby(['cluster']).size().sort_values()"
   ]
  },
  {
   "cell_type": "markdown",
   "metadata": {},
   "source": [
    "## Take the Assessment"
   ]
  },
  {
   "cell_type": "markdown",
   "metadata": {},
   "source": [
    "After completing the work above, visit the *Launch Section* web page that you used to launch this Jupyter Lab. Scroll down below where you launched Jupyter Lab, and answer the question *Week 1 Assessment*. You can view your overall progress in the assessment by visiting the same *Launch Section* page and clicking on the link to the *Progress* page.\n",
    "\n",
    "There will be additional questions for you to answer after completing the remaining notebooks. On the *Progress* page, if you have successfully answered all the assessment questions, you can click on *Generate Certificate* to receive your certificate in the course."
   ]
  },
  {
   "cell_type": "markdown",
   "metadata": {},
   "source": [
    "![launch_task_page](./images/launch_task_page.png)"
   ]
  },
  {
   "cell_type": "markdown",
   "metadata": {},
   "source": [
    "<div align=\"center\"><h2>Please Restart the Kernel</h2></div>"
   ]
  },
  {
   "cell_type": "code",
   "execution_count": null,
   "metadata": {},
   "outputs": [],
   "source": [
    "import IPython\n",
    "app = IPython.Application.instance()\n",
    "app.kernel.do_shutdown(True)"
   ]
  }
 ],
 "metadata": {
  "kernelspec": {
   "display_name": "Python 3 (ipykernel)",
   "language": "python",
   "name": "python3"
  },
  "language_info": {
   "codemirror_mode": {
    "name": "ipython",
    "version": 3
   },
   "file_extension": ".py",
   "mimetype": "text/x-python",
   "name": "python",
   "nbconvert_exporter": "python",
   "pygments_lexer": "ipython3",
   "version": "3.8.12"
  }
 },
 "nbformat": 4,
 "nbformat_minor": 4
}
