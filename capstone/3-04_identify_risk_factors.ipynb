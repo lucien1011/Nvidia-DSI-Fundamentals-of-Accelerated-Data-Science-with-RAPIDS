{
 "cells": [
  {
   "cell_type": "markdown",
   "metadata": {},
   "source": [
    "# Week 3: Identify Risk Factors for Infection"
   ]
  },
  {
   "cell_type": "markdown",
   "metadata": {},
   "source": [
    "<span style=\"color:red\">\n",
    "**UPDATE**\n",
    "\n",
    "Thank you again for the previous analysis. We will next be publishing a public health advisory that warns of specific infection risk factors of which individuals should be aware. Please advise as to which population characteristics are associated with higher infection rates. \n",
    "</span>\n",
    "\n",
    "Your goal for this notebook will be to identify key potential demographic and economic risk factors for infection by comparing the infected and uninfected populations."
   ]
  },
  {
   "cell_type": "markdown",
   "metadata": {},
   "source": [
    "## Imports"
   ]
  },
  {
   "cell_type": "code",
   "execution_count": 1,
   "metadata": {},
   "outputs": [],
   "source": [
    "import cudf\n",
    "import cuml"
   ]
  },
  {
   "cell_type": "markdown",
   "metadata": {},
   "source": [
    "## Load Data"
   ]
  },
  {
   "cell_type": "markdown",
   "metadata": {},
   "source": [
    "Begin by loading the data you've received about week 3 of the outbreak into a cuDF data frame. The data is located at `./data/week3.csv`. For this notebook you will need all columns of the data."
   ]
  },
  {
   "cell_type": "code",
   "execution_count": 5,
   "metadata": {},
   "outputs": [
    {
     "name": "stdout",
     "output_type": "stream",
     "text": [
      "<class 'cudf.core.dataframe.DataFrame'>\n",
      "RangeIndex: 58479894 entries, 0 to 58479893\n",
      "Data columns (total 4 columns):\n",
      " #   Column      Dtype\n",
      "---  ------      -----\n",
      " 0   age         int64\n",
      " 1   sex         object\n",
      " 2   employment  object\n",
      " 3   infected    float64\n",
      "dtypes: float64(1), int64(1), object(2)\n",
      "memory usage: 1.4+ GB\n"
     ]
    }
   ],
   "source": [
    "gdf = cudf.read_csv('./data/week3.csv')\n",
    "gdf.info()"
   ]
  },
  {
   "cell_type": "markdown",
   "metadata": {},
   "source": [
    "## Calculate Infection Rates by Employment Code"
   ]
  },
  {
   "cell_type": "markdown",
   "metadata": {},
   "source": [
    "Convert the `infected` column to type `float32`. For people who are not infected, the float32 `infected` value should be `0.0`, and for infected people it should be `1.0`."
   ]
  },
  {
   "cell_type": "code",
   "execution_count": 6,
   "metadata": {},
   "outputs": [],
   "source": [
    "gdf['infected'] = gdf['infected'].astype('float32')"
   ]
  },
  {
   "cell_type": "markdown",
   "metadata": {},
   "source": [
    "Now, produce a list of employment types and their associated **rates** of infection, sorted from highest to lowest rate of infection.\n",
    "\n",
    "**NOTE**: The infection **rate** for each employment type should be the percentage of total individuals within an employment type who are infected. Therefore, if employment type \"X\" has 1000 people, and 10 of them are infected, the infection **rate** would be .01. If employment type \"Z\" has 10,000 people, and 50 of them are infected, the infection rate would be .005, and would be **lower** than for type \"X\", even though more people within that employment type were infected."
   ]
  },
  {
   "cell_type": "code",
   "execution_count": 10,
   "metadata": {},
   "outputs": [
    {
     "data": {
      "text/plain": [
       "employment\n",
       "U          0.000217\n",
       "F          0.003182\n",
       "H          0.003388\n",
       "B, D, E    0.003774\n",
       "A          0.003853\n",
       "C          0.003882\n",
       "J          0.003939\n",
       "X          0.004539\n",
       "K          0.004772\n",
       "M          0.004777\n",
       "N          0.004784\n",
       "G          0.004948\n",
       "L          0.004970\n",
       "O          0.005284\n",
       "R, S, T    0.005390\n",
       "Z          0.005655\n",
       "P          0.006190\n",
       "V          0.007590\n",
       "I          0.010354\n",
       "Q          0.012756\n",
       "Name: infected, dtype: float64"
      ]
     },
     "execution_count": 10,
     "metadata": {},
     "output_type": "execute_result"
    }
   ],
   "source": [
    "group = gdf.groupby('employment')\n",
    "rate = group['infected'].sum() / group['infected'].count()\n",
    "rate.sort_values()"
   ]
  },
  {
   "cell_type": "markdown",
   "metadata": {},
   "source": [
    "Finally, read in the employment codes guide from `./data/code_guide.csv` to interpret which employment types are seeing the highest rates of infection."
   ]
  },
  {
   "cell_type": "code",
   "execution_count": 11,
   "metadata": {},
   "outputs": [
    {
     "data": {
      "text/html": [
       "<div>\n",
       "<style scoped>\n",
       "    .dataframe tbody tr th:only-of-type {\n",
       "        vertical-align: middle;\n",
       "    }\n",
       "\n",
       "    .dataframe tbody tr th {\n",
       "        vertical-align: top;\n",
       "    }\n",
       "\n",
       "    .dataframe thead th {\n",
       "        text-align: right;\n",
       "    }\n",
       "</style>\n",
       "<table border=\"1\" class=\"dataframe\">\n",
       "  <thead>\n",
       "    <tr style=\"text-align: right;\">\n",
       "      <th></th>\n",
       "      <th>Code</th>\n",
       "      <th>Field</th>\n",
       "    </tr>\n",
       "  </thead>\n",
       "  <tbody>\n",
       "    <tr>\n",
       "      <th>0</th>\n",
       "      <td>A</td>\n",
       "      <td>Agriculture, forestry &amp; fishing</td>\n",
       "    </tr>\n",
       "    <tr>\n",
       "      <th>1</th>\n",
       "      <td>B, D, E</td>\n",
       "      <td>Mining, energy and water supply</td>\n",
       "    </tr>\n",
       "    <tr>\n",
       "      <th>2</th>\n",
       "      <td>C</td>\n",
       "      <td>Manufacturing</td>\n",
       "    </tr>\n",
       "    <tr>\n",
       "      <th>3</th>\n",
       "      <td>F</td>\n",
       "      <td>Construction</td>\n",
       "    </tr>\n",
       "    <tr>\n",
       "      <th>4</th>\n",
       "      <td>G</td>\n",
       "      <td>Wholesale, retail &amp; repair of motor vehicles</td>\n",
       "    </tr>\n",
       "    <tr>\n",
       "      <th>5</th>\n",
       "      <td>H</td>\n",
       "      <td>Transport &amp; storage</td>\n",
       "    </tr>\n",
       "    <tr>\n",
       "      <th>6</th>\n",
       "      <td>I</td>\n",
       "      <td>Accommodation &amp; food services</td>\n",
       "    </tr>\n",
       "    <tr>\n",
       "      <th>7</th>\n",
       "      <td>J</td>\n",
       "      <td>Information &amp; communication</td>\n",
       "    </tr>\n",
       "    <tr>\n",
       "      <th>8</th>\n",
       "      <td>K</td>\n",
       "      <td>Financial &amp; insurance activities</td>\n",
       "    </tr>\n",
       "    <tr>\n",
       "      <th>9</th>\n",
       "      <td>L</td>\n",
       "      <td>Real estate activities</td>\n",
       "    </tr>\n",
       "    <tr>\n",
       "      <th>10</th>\n",
       "      <td>M</td>\n",
       "      <td>Professional, scientific &amp; technical activities</td>\n",
       "    </tr>\n",
       "    <tr>\n",
       "      <th>11</th>\n",
       "      <td>N</td>\n",
       "      <td>Administrative &amp; support services</td>\n",
       "    </tr>\n",
       "    <tr>\n",
       "      <th>12</th>\n",
       "      <td>O</td>\n",
       "      <td>Public admin &amp; defence; social security</td>\n",
       "    </tr>\n",
       "    <tr>\n",
       "      <th>13</th>\n",
       "      <td>P</td>\n",
       "      <td>Education</td>\n",
       "    </tr>\n",
       "    <tr>\n",
       "      <th>14</th>\n",
       "      <td>Q</td>\n",
       "      <td>Human health &amp; social work activities</td>\n",
       "    </tr>\n",
       "    <tr>\n",
       "      <th>15</th>\n",
       "      <td>R, S, T</td>\n",
       "      <td>Other services</td>\n",
       "    </tr>\n",
       "    <tr>\n",
       "      <th>16</th>\n",
       "      <td>U</td>\n",
       "      <td>Student</td>\n",
       "    </tr>\n",
       "    <tr>\n",
       "      <th>17</th>\n",
       "      <td>V</td>\n",
       "      <td>Retired</td>\n",
       "    </tr>\n",
       "    <tr>\n",
       "      <th>18</th>\n",
       "      <td>X</td>\n",
       "      <td>Outside the UK or not specified</td>\n",
       "    </tr>\n",
       "    <tr>\n",
       "      <th>19</th>\n",
       "      <td>Y</td>\n",
       "      <td>Pre-school child</td>\n",
       "    </tr>\n",
       "    <tr>\n",
       "      <th>20</th>\n",
       "      <td>Z</td>\n",
       "      <td>Not formally employed</td>\n",
       "    </tr>\n",
       "  </tbody>\n",
       "</table>\n",
       "</div>"
      ],
      "text/plain": [
       "       Code                                            Field\n",
       "0         A                  Agriculture, forestry & fishing\n",
       "1   B, D, E                  Mining, energy and water supply\n",
       "2         C                                    Manufacturing\n",
       "3         F                                     Construction\n",
       "4         G     Wholesale, retail & repair of motor vehicles\n",
       "5         H                              Transport & storage\n",
       "6         I                    Accommodation & food services\n",
       "7         J                      Information & communication\n",
       "8         K                 Financial & insurance activities\n",
       "9         L                           Real estate activities\n",
       "10        M  Professional, scientific & technical activities\n",
       "11        N                Administrative & support services\n",
       "12        O          Public admin & defence; social security\n",
       "13        P                                        Education\n",
       "14        Q            Human health & social work activities\n",
       "15  R, S, T                                   Other services\n",
       "16        U                                          Student\n",
       "17        V                                          Retired\n",
       "18        X                  Outside the UK or not specified\n",
       "19        Y                                 Pre-school child\n",
       "20        Z                            Not formally employed"
      ]
     },
     "execution_count": 11,
     "metadata": {},
     "output_type": "execute_result"
    }
   ],
   "source": [
    "code_guide = cudf.read_csv('./data/code_guide.csv')\n",
    "code_guide"
   ]
  },
  {
   "cell_type": "markdown",
   "metadata": {},
   "source": [
    "## Calculate Infection Rates by Employment Code and Sex"
   ]
  },
  {
   "cell_type": "markdown",
   "metadata": {},
   "source": [
    "We want to see if there is an effect of `sex` on infection rate, either in addition to `employment` or confounding it. Group by both `employment` and `sex` simultaneously to get the infection rate for the intersection of those categories."
   ]
  },
  {
   "cell_type": "code",
   "execution_count": 12,
   "metadata": {},
   "outputs": [
    {
     "data": {
      "text/plain": [
       "employment  sex\n",
       "U           m      0.000110\n",
       "            f      0.000329\n",
       "L           m      0.002197\n",
       "X           m      0.002435\n",
       "B, D, E     m      0.002462\n",
       "H           m      0.002482\n",
       "K           m      0.002490\n",
       "A           m      0.002514\n",
       "M           m      0.002520\n",
       "F           m      0.002535\n",
       "N           m      0.002538\n",
       "R, S, T     m      0.002542\n",
       "Z           m      0.002543\n",
       "O           m      0.002543\n",
       "J           m      0.002546\n",
       "C           m      0.002569\n",
       "P           m      0.002577\n",
       "G           m      0.002596\n",
       "V           m      0.003685\n",
       "I           m      0.005117\n",
       "Q           m      0.005120\n",
       "L           f      0.007221\n",
       "H           f      0.007385\n",
       "N           f      0.007389\n",
       "X           f      0.007391\n",
       "A           f      0.007491\n",
       "G           f      0.007556\n",
       "F           f      0.007577\n",
       "P           f      0.007584\n",
       "Z           f      0.007629\n",
       "C           f      0.007630\n",
       "J           f      0.007645\n",
       "M           f      0.007645\n",
       "K           f      0.007672\n",
       "O           f      0.007719\n",
       "R, S, T     f      0.007748\n",
       "B, D, E     f      0.007973\n",
       "V           f      0.010852\n",
       "Q           f      0.014947\n",
       "I           f      0.015064\n",
       "Name: infected, dtype: float64"
      ]
     },
     "execution_count": 12,
     "metadata": {},
     "output_type": "execute_result"
    }
   ],
   "source": [
    "group = gdf.groupby(['employment','sex'])\n",
    "rate = group['infected'].sum() / group['infected'].count()\n",
    "rate.sort_values()"
   ]
  },
  {
   "cell_type": "markdown",
   "metadata": {},
   "source": [
    "## Take the Assessment"
   ]
  },
  {
   "cell_type": "markdown",
   "metadata": {},
   "source": [
    "After completing the work above, visit the *Launch Section* web page that you used to launch this Jupyter Lab. Scroll down below where you launched Jupyter Lab, and answer the question *Week 3 Assessment*. You can view your overall progress in the assessment by visiting the same *Launch Section* page and clicking on the link to the *Progress* page. On the *Progress* page, if you have successfully answered all the assessment questions, you can click on *Generate Certificate* to receive your certificate in the course."
   ]
  },
  {
   "cell_type": "markdown",
   "metadata": {},
   "source": [
    "![launch_task_page](./images/launch_task_page.png)"
   ]
  },
  {
   "cell_type": "markdown",
   "metadata": {},
   "source": [
    "<div align=\"center\"><h2>Optional: Restart the Kernel</h2></div>"
   ]
  },
  {
   "cell_type": "markdown",
   "metadata": {},
   "source": [
    "If you plan to continue work in other notebooks, please shutdown the kernel."
   ]
  },
  {
   "cell_type": "code",
   "execution_count": null,
   "metadata": {},
   "outputs": [],
   "source": [
    "import IPython\n",
    "app = IPython.Application.instance()\n",
    "app.kernel.do_shutdown(True)"
   ]
  }
 ],
 "metadata": {
  "kernelspec": {
   "display_name": "Python 3 (ipykernel)",
   "language": "python",
   "name": "python3"
  },
  "language_info": {
   "codemirror_mode": {
    "name": "ipython",
    "version": 3
   },
   "file_extension": ".py",
   "mimetype": "text/x-python",
   "name": "python",
   "nbconvert_exporter": "python",
   "pygments_lexer": "ipython3",
   "version": "3.8.12"
  }
 },
 "nbformat": 4,
 "nbformat_minor": 4
}
